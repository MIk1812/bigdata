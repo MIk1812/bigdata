{
 "cells": [
  {
   "cell_type": "markdown",
   "metadata": {},
   "source": [
    "## Heart Disease\n",
    "Data blev taget fra [Kaggle](https://www.kaggle.com/fedesoriano/heart-failure-prediction)."
   ]
  },
  {
   "cell_type": "markdown",
   "metadata": {},
   "source": [
    "Nødvendige pakker hentes"
   ]
  },
  {
   "cell_type": "code",
   "execution_count": 1,
   "metadata": {
    "collapsed": true
   },
   "outputs": [
    {
     "name": "stdout",
     "output_type": "stream",
     "text": [
      "     Age  RestingBP  Cholesterol  FastingBS  MaxHR  Oldpeak  HeartDisease  \\\n",
      "0     40        140          289          0    172        0             0   \n",
      "1     49        160          180          0    156        1             1   \n",
      "2     37        130          283          0     98        0             0   \n",
      "3     48        138          214          0    108       15             1   \n",
      "4     54        150          195          0    122        0             0   \n",
      "..   ...        ...          ...        ...    ...      ...           ...   \n",
      "913   45        110          264          0    132       12             1   \n",
      "914   68        144          193          1    141       34             1   \n",
      "915   57        130          131          0    115       12             1   \n",
      "916   57        130          236          0    174        0             1   \n",
      "917   38        138          175          0    173        0             0   \n",
      "\n",
      "     Sex  ChestPainType  RestingECG  Exercise_Angina  ST_Slope  \n",
      "0      1              0           0                0         0  \n",
      "1      0              1           0                0         1  \n",
      "2      1              0           1                0         0  \n",
      "3      0              2           0                1         1  \n",
      "4      1              1           0                0         0  \n",
      "..   ...            ...         ...              ...       ...  \n",
      "913    1              3           0                0         1  \n",
      "914    1              2           0                0         1  \n",
      "915    1              2           0                1         1  \n",
      "916    0              0           2                0         1  \n",
      "917    1              1           0                0         0  \n",
      "\n",
      "[918 rows x 12 columns]\n"
     ]
    }
   ],
   "source": [
    "import pandas as pd\n",
    "import matplotlib.pyplot as plt\n",
    "import numpy as np\n",
    "import Main as dataloader"
   ]
  },
  {
   "cell_type": "markdown",
   "metadata": {},
   "source": [
    "Data loades fra csv fil:"
   ]
  },
  {
   "cell_type": "code",
   "execution_count": 2,
   "metadata": {
    "pycharm": {
     "name": "#%%\n"
    }
   },
   "outputs": [],
   "source": [
    "data = dataloader.load_data(False);"
   ]
  },
  {
   "cell_type": "markdown",
   "metadata": {},
   "source": [
    "Vi har 918 observationer med 12 variabler. Her er summary af vores data."
   ]
  },
  {
   "cell_type": "code",
   "execution_count": 3,
   "metadata": {
    "pycharm": {
     "name": "#%%\n"
    }
   },
   "outputs": [
    {
     "name": "stdout",
     "output_type": "stream",
     "text": [
      "   Age  RestingBP  Cholesterol  FastingBS  MaxHR  Oldpeak  HeartDisease  Sex  \\\n",
      "0   40        140          289          0    172        0             0    1   \n",
      "1   49        160          180          0    156        1             1    0   \n",
      "2   37        130          283          0     98        0             0    1   \n",
      "3   48        138          214          0    108       15             1    0   \n",
      "4   54        150          195          0    122        0             0    1   \n",
      "\n",
      "   ChestPainType  RestingECG  Exercise_Angina  ST_Slope  \n",
      "0              0           0                0         0  \n",
      "1              1           0                0         1  \n",
      "2              0           1                0         0  \n",
      "3              2           0                1         1  \n",
      "4              1           0                0         0  \n",
      "<class 'pandas.core.frame.DataFrame'>\n",
      "RangeIndex: 918 entries, 0 to 917\n",
      "Data columns (total 12 columns):\n",
      " #   Column           Non-Null Count  Dtype\n",
      "---  ------           --------------  -----\n",
      " 0   Age              918 non-null    int64\n",
      " 1   RestingBP        918 non-null    int64\n",
      " 2   Cholesterol      918 non-null    int64\n",
      " 3   FastingBS        918 non-null    int64\n",
      " 4   MaxHR            918 non-null    int64\n",
      " 5   Oldpeak          918 non-null    int64\n",
      " 6   HeartDisease     918 non-null    int64\n",
      " 7   Sex              918 non-null    int32\n",
      " 8   ChestPainType    918 non-null    int64\n",
      " 9   RestingECG       918 non-null    int64\n",
      " 10  Exercise_Angina  918 non-null    int32\n",
      " 11  ST_Slope         918 non-null    int64\n",
      "dtypes: int32(2), int64(10)\n",
      "memory usage: 79.0 KB\n",
      "None\n",
      "              Age   RestingBP  Cholesterol   FastingBS       MaxHR  \\\n",
      "count  918.000000  918.000000   918.000000  918.000000  918.000000   \n",
      "mean    53.510893  132.396514   198.799564    0.233115  136.809368   \n",
      "std      9.432617   18.514154   109.384145    0.423046   25.460334   \n",
      "min     28.000000    0.000000     0.000000    0.000000   60.000000   \n",
      "25%     47.000000  120.000000   173.250000    0.000000  120.000000   \n",
      "50%     54.000000  130.000000   223.000000    0.000000  138.000000   \n",
      "75%     60.000000  140.000000   267.000000    0.000000  156.000000   \n",
      "max     77.000000  200.000000   603.000000    1.000000  202.000000   \n",
      "\n",
      "          Oldpeak  HeartDisease         Sex  ChestPainType  RestingECG  \\\n",
      "count  918.000000    918.000000  918.000000     918.000000  918.000000   \n",
      "mean     5.393246      0.553377    0.789760       1.452070    0.603486   \n",
      "std      8.774345      0.497414    0.407701       0.851832    0.805968   \n",
      "min    -26.000000      0.000000    0.000000       0.000000    0.000000   \n",
      "25%      0.000000      0.000000    1.000000       1.000000    0.000000   \n",
      "50%      1.000000      1.000000    1.000000       2.000000    0.000000   \n",
      "75%      8.000000      1.000000    1.000000       2.000000    1.000000   \n",
      "max     62.000000      1.000000    1.000000       3.000000    2.000000   \n",
      "\n",
      "       Exercise_Angina    ST_Slope  \n",
      "count       918.000000  918.000000  \n",
      "mean          0.404139    0.638344  \n",
      "std           0.490992    0.607056  \n",
      "min           0.000000    0.000000  \n",
      "25%           0.000000    0.000000  \n",
      "50%           0.000000    1.000000  \n",
      "75%           1.000000    1.000000  \n",
      "max           1.000000    2.000000  \n"
     ]
    }
   ],
   "source": [
    "print(data.head())\n",
    "print(data.info())\n",
    "print(data.describe())"
   ]
  },
  {
   "cell_type": "markdown",
   "source": [
    "#### Histogram\n"
   ],
   "metadata": {
    "collapsed": false
   }
  },
  {
   "cell_type": "code",
   "execution_count": 4,
   "outputs": [
    {
     "data": {
      "text/plain": "<Figure size 432x288 with 12 Axes>",
      "image/png": "[encoded data removed]"
     },
     "metadata": {
      "needs_background": "light"
     },
     "output_type": "display_data"
    }
   ],
   "source": [
    "data.hist()\n",
    "plt.show()"
   ],
   "metadata": {
    "collapsed": false,
    "pycharm": {
     "name": "#%%\n"
    }
   }
  }
 ],
 "metadata": {
  "kernelspec": {
   "display_name": "Python 3",
   "language": "python",
   "name": "python3"
  },
  "language_info": {
   "codemirror_mode": {
    "name": "ipython",
    "version": 3
   },
   "file_extension": ".py",
   "mimetype": "text/x-python",
   "name": "python",
   "nbconvert_exporter": "python",
   "pygments_lexer": "ipython3",
   "version": "3.8.8"
  }
 },
 "nbformat": 4,
 "nbformat_minor": 1
}